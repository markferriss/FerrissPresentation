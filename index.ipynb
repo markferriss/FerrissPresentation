{
 "cells": [
  {
   "cell_type": "markdown",
   "metadata": {
    "slideshow": {
     "slide_type": "slide"
    }
   },
   "source": [
    "<h1 align=\"center\">Mark Ferriss</h1>\n",
    "\n",
    "***"
   ]
  },
  {
   "cell_type": "markdown",
   "metadata": {
    "slideshow": {
     "slide_type": "subslide"
    }
   },
   "source": [
    "<h1 align=\"center\">History</h1>\n",
    "\n",
    "### Work\n",
    "-  2009-2019: IBM's T.J. Watson Research Lab — *Research Staff Member*\n",
    "-  2008-2009: University of Michigan — *Postdoctoral Researcher*\n",
    "-  1998-2002: Analog Devices Inc., Ireland — *Design Engineer*\n",
    "\n",
    "### Education\n",
    "-  2003-2008: *Ph.D.*, University of Michigan\n",
    "-  1994-1998: *B.E.*, National University of Ireland, Cork (UCC)"
   ]
  },
  {
   "cell_type": "markdown",
   "metadata": {
    "slideshow": {
     "slide_type": "subslide"
    }
   },
   "source": [
    "## Topics\n",
    "\n",
    "-  Self-healing PLLs\n",
    "-  Fractional-N noise cancellation\n",
    "-  Varactor folding\n",
    "-  Flicker noise suppression in VCOs\n",
    "-  Software for phase arrays\n"
   ]
  },
  {
   "cell_type": "markdown",
   "metadata": {
    "slideshow": {
     "slide_type": "slide"
    }
   },
   "source": [
    "<h1 align=\"center\">Self-healing PLLs</h1> \n",
    "\n",
    "***\n",
    "<br><br>\n",
    "\n",
    "**Ferriss, M.**; Plouchart, J.-O.; Natarajan, A.; Rylyakov, A.; Parker, B.;<br> Babakhani, A.; Yaldiz, S.; Sadhu, B.; Valdes-Garcia, Alberto; Tierno, J.; Friedman, D.,<br>\n",
    "*\"An integral path self-calibration scheme for a 20.1–26.7GHz dual-loop PLL in 32nm SOI CMOS,\"*<br>\n",
    "VLSI Circuits (VLSIC), 2012."
   ]
  },
  {
   "cell_type": "markdown",
   "metadata": {
    "slideshow": {
     "slide_type": "subslide"
    }
   },
   "source": [
    "# Single and dual path PLLs\n",
    "***\n",
    "<img src=\"Inkscape/SelfHealing/DualPath1.png\" width=\"80%\">\n",
    "\n",
    "-  Split control path into proportional and integral path\n",
    "e.g: [Craninckx, JSSC 1998]\n",
    "-  Requires two charge-pumps and two VCO varactors\n",
    "\n",
    " **Why use this architecture?**"
   ]
  },
  {
   "cell_type": "markdown",
   "metadata": {
    "slideshow": {
     "slide_type": "subslide"
    }
   },
   "source": [
    "# VCO small signal gain variation\n",
    "***\n",
    "<img src=\"Inkscape/SelfHealing/DualPath2.svg\" width=\"80%\">\n",
    "\n"
   ]
  },
  {
   "cell_type": "markdown",
   "metadata": {
    "slideshow": {
     "slide_type": "subslide"
    }
   },
   "source": [
    "# Gain variation affects on PLL phase noise\n",
    "***\n",
    "<img src=\"Inkscape/SelfHealing/BandwidthVariation.svg\" width=\"80%\">\n",
    "\n"
   ]
  },
  {
   "cell_type": "markdown",
   "metadata": {
    "slideshow": {
     "slide_type": "subslide"
    }
   },
   "source": [
    "# Prior-art bandwidth correction\n",
    "***\n",
    "<img src=\"Inkscape/SelfHealing/StepAddition.svg\" width=\"80%\">\n",
    "\n"
   ]
  },
  {
   "cell_type": "markdown",
   "metadata": {
    "slideshow": {
     "slide_type": "subslide"
    }
   },
   "source": [
    "# Time-to-crossover in presence of offsets\n",
    "***\n",
    "<img src=\"Inkscape/SelfHealing/TransientCross.jpg\" width=\"80%\">\n",
    "\n",
    "`Real measurement has offsets caused by: Charge pump current mismatch, capacitor leakage, BB-PFD offset, etc.`"
   ]
  },
  {
   "cell_type": "markdown",
   "metadata": {
    "slideshow": {
     "slide_type": "subslide"
    }
   },
   "source": [
    "# Effects of non-linearity and offsets\n",
    "***\n",
    "<img src=\"Inkscape/SelfHealing/TimeToCross.svg\" width=\"80%\">\n",
    "\n",
    "-  Saturation corrupts measurement when step is large\n",
    "-  Offset corrupts measurement when step is small"
   ]
  },
  {
   "cell_type": "markdown",
   "metadata": {
    "slideshow": {
     "slide_type": "subslide"
    }
   },
   "source": [
    "# PLL response to a phase step, with no proportional path\n",
    "***\n",
    "<img src=\"Inkscape/SelfHealing/NoProp.png\" width=\"80%\">\n",
    "\n",
    "-  Saturation corrupts measurement when step is large\n",
    "-  Offset corrupts measurement when step is small"
   ]
  },
  {
   "cell_type": "markdown",
   "metadata": {
    "slideshow": {
     "slide_type": "subslide"
    }
   },
   "source": [
    "# Transfer function before/after calibration\n",
    "***\n",
    "\n",
    "<img src=\"Inkscape/SelfHealing/BandwidthHealed.svg\" width=\"80%\">\n",
    "\n",
    "`Calibration system stabilizes transfer function`"
   ]
  },
  {
   "cell_type": "markdown",
   "metadata": {
    "slideshow": {
     "slide_type": "subslide"
    }
   },
   "source": [
    "# Phase noise before/after calibration\n",
    "***\n",
    "\n",
    "<img src=\"Inkscape/SelfHealing/PhaseNoiseHealed.svg\" width=\"80%\">\n",
    "\n",
    "`Stabilized transfer function leads to phase noise uniformity`"
   ]
  },
  {
   "cell_type": "markdown",
   "metadata": {
    "slideshow": {
     "slide_type": "subslide"
    }
   },
   "source": [
    "# Wafer level test\n",
    "***\n",
    "\n",
    "<img src=\"Inkscape/SelfHealing/WaferMap.svg\" width=\"80%\">\n",
    "\n",
    "Measured jitter peaking (in dB) before/after calibration. Tested every die on a 300mm wafer at 25GHz \n",
    "\n",
    "`Improved uniformity shown across wafer`"
   ]
  },
  {
   "cell_type": "markdown",
   "metadata": {
    "slideshow": {
     "slide_type": "subslide"
    }
   },
   "source": [
    "# Parametric phase noise healing\n",
    "***\n",
    "\n",
    "<img src=\"Inkscape/SelfHealing/FullSelfHealing.svg\" width=\"80%\">\n",
    "\n",
    "Noise @10MHz = f( VCO fnom, Amplitude, Bias Voltage and Current, VCC, Band ) \n",
    "\n",
    "*Methodology described in:*  S. Yaldiz, V. Calayir, X. Li, L. Pileggi, A. Natarajan, M. Ferriss and J. Tierno, “Indirect   Phase Noise Sensing for Self-Healing Voltage Controlled Oscillators,” IEEE CICC, Mar. 2011."
   ]
  },
  {
   "cell_type": "markdown",
   "metadata": {
    "slideshow": {
     "slide_type": "slide"
    }
   },
   "source": [
    "<h1 align=\"center\"> Fractional-N noise cancellation</h1> \n",
    "\n",
    "***\n",
    "<br><br>\n",
    "\n",
    "**Ferriss, M.**; Sadhu, B.; Rylyakov, A.; Ainspan, H.; Friedman, D., <br>\n",
    "*\"A 13.1-to-28GHz fractional-N PLL in 32nm SOI CMOS with a ΔΣ noise-cancellation scheme,\"*<br>\n",
    "IEEE International Solid- State Circuits Conference (ISSCC), 2015."
   ]
  },
  {
   "cell_type": "markdown",
   "metadata": {
    "slideshow": {
     "slide_type": "subslide"
    }
   },
   "source": [
    "# Objective\n",
    "***\n",
    "<img src=\"Inkscape/NoiseCancel/Introduction.png\" width=\"80%\">"
   ]
  },
  {
   "cell_type": "markdown",
   "metadata": {
    "slideshow": {
     "slide_type": "subslide"
    }
   },
   "source": [
    "# Hybrid PLL Architecture\n",
    "***\n",
    "\n",
    "<img src=\"Inkscape/NoiseCancel/FIG1.svg\" width=\"80%\">\n",
    "\n",
    "`Baseline integer-N Hybrid PLL from [Ferriss, et al., JSSC 2014]`"
   ]
  },
  {
   "cell_type": "markdown",
   "metadata": {
    "slideshow": {
     "slide_type": "subslide"
    }
   },
   "source": [
    "# Classic Fractional-N PLL\n",
    "***\n",
    "\n",
    "<img src=\"Inkscape/NoiseCancel/FracN_concept.svg\" width=\"80%\">"
   ]
  },
  {
   "cell_type": "markdown",
   "metadata": {
    "slideshow": {
     "slide_type": "subslide"
    }
   },
   "source": [
    "# Classic $\\Delta\\Sigma$ Problem\n",
    "***\n",
    "<img src=\"Inkscape/NoiseCancel/CancelControl_Simple_before.png\" width=\"80%\">\n",
    "\n",
    "-  Divider’s $\\Delta\\Sigma$ dithers PLL’s feedback (FB) clock\n",
    "-  $\\Delta\\Sigma$ noise contributes to PLL’s phase noise"
   ]
  },
  {
   "cell_type": "markdown",
   "metadata": {
    "slideshow": {
     "slide_type": "subslide"
    }
   },
   "source": [
    "# Time-based Cancellation Concept\n",
    "***\n",
    "<img src=\"Inkscape/NoiseCancel/CancelControl_Simple.png\" width=\"80%\">\n",
    "\n",
    "***\n",
    "-  Digital-to-time based delay scheme used on analog path \n",
    "   - Utilizes loop filter’s low pass response to remove delay path quantization noise -> Don’t need fine quantization step."
   ]
  },
  {
   "cell_type": "markdown",
   "metadata": {
    "slideshow": {
     "slide_type": "subslide"
    }
   },
   "source": [
    "# Componets of delay generation\n",
    "***\n",
    "<img src=\"Inkscape/NoiseCancel/DelayWaveForms.svg\" width=\"80%\">"
   ]
  },
  {
   "cell_type": "markdown",
   "metadata": {
    "slideshow": {
     "slide_type": "subslide"
    }
   },
   "source": [
    "# Delay Controller Architecture\n",
    "***\n",
    "<img src=\"Inkscape/NoiseCancel/DelayStateMachine.svg\" width=\"80%\">\n",
    "\n",
    "Controller’s function is to:\n",
    "1. Background calibrate DTC gain\n",
    "2. Shape $\\Delta$T quantization error\n",
    "3. Shape the mismatch error"
   ]
  },
  {
   "cell_type": "markdown",
   "metadata": {
    "slideshow": {
     "slide_type": "subslide"
    }
   },
   "source": [
    "# Delay Controller Operation Simulation\n",
    "***\n",
    "<img src=\"Inkscape/NoiseCancel/TranSimWithPic.svg\" width=\"80%\">"
   ]
  },
  {
   "cell_type": "markdown",
   "metadata": {
    "slideshow": {
     "slide_type": "subslide"
    }
   },
   "source": [
    "# Integral Path Introduction\n",
    "***\n",
    "\n",
    "<img src=\"Inkscape/NoiseCancel/IntProblem.png\" width=\"80%\">\n",
    "\n",
    "`How do we interpret early/late information?`"
   ]
  },
  {
   "cell_type": "markdown",
   "metadata": {
    "slideshow": {
     "slide_type": "subslide"
    }
   },
   "source": [
    "# Integral Path Prediction Concept\n",
    "***\n",
    "\n",
    "<img src=\"Inkscape/NoiseCancel/IntConcept.png\" width=\"80%\">"
   ]
  },
  {
   "cell_type": "markdown",
   "metadata": {
    "slideshow": {
     "slide_type": "subslide"
    }
   },
   "source": [
    "# Integral Path Prediction Circuit\n",
    "***\n",
    "\n",
    "<img src=\"Inkscape/NoiseCancel/IntPredict.png\" width=\"80%\">\n",
    "\n",
    "-  Integral path operates from single BB phase detector\n",
    "    -  Works in parallel with the analog proportional path\n",
    "-  Ignores BB results that match prediction"
   ]
  },
  {
   "cell_type": "markdown",
   "metadata": {
    "slideshow": {
     "slide_type": "subslide"
    }
   },
   "source": [
    "# Dual D/VCO Scheme\n",
    "***\n",
    "\n",
    "<img src=\"Inkscape/NoiseCancel/VCO.png\" width=\"80%\">"
   ]
  },
  {
   "cell_type": "markdown",
   "metadata": {
    "slideshow": {
     "slide_type": "subslide"
    }
   },
   "source": [
    "# Die Photo with Layout\n",
    "***\n",
    "<img src=\"Inkscape/NoiseCancel/DiePhoto.png\" width=\"80%\">"
   ]
  },
  {
   "cell_type": "markdown",
   "metadata": {
    "slideshow": {
     "slide_type": "subslide"
    }
   },
   "source": [
    "# Measured Phase Noise and Output Spectrum\n",
    "***\n",
    "\n",
    "<img src=\"Inkscape/NoiseCancel/FIG4.svg\" width=\"800\">"
   ]
  },
  {
   "cell_type": "markdown",
   "metadata": {
    "slideshow": {
     "slide_type": "subslide"
    }
   },
   "source": [
    "# Demonstration of DTC Background Cal\n",
    "***\n",
    "\n",
    "<img src=\"Inkscape/NoiseCancel/FIG5.svg\" width=\"80%\">\n",
    "\n",
    "`Background calibration engine finds the optimum setting`"
   ]
  },
  {
   "cell_type": "markdown",
   "metadata": {
    "slideshow": {
     "slide_type": "subslide"
    }
   },
   "source": [
    "# Dual D/VCO Tuning Characteristic\n",
    "***\n",
    "\n",
    "<img src=\"Inkscape/NoiseCancel/FIG6b.svg\" width=\"80%\">\n",
    "\n",
    "-  PLL’s frequency range is 13.1GHz to 28GHz \n",
    "   -  (D/VCO max frequency is 31GHz)"
   ]
  },
  {
   "cell_type": "markdown",
   "metadata": {
    "slideshow": {
     "slide_type": "subslide"
    }
   },
   "source": [
    "# Transient Locking\n",
    "***\n",
    "\n",
    "<img src=\"Inkscape/NoiseCancel/FastSwitch.png\" width=\"80%\">\n",
    "\n",
    "Response to step in division ratio measured with sampling scope.<br>\n",
    "Measured with different integral path gain settings (<font color=green>green</font>, <font color=red>red</font>), and with direct loading of digital control word (<font color=blue>blue</font>)."
   ]
  },
  {
   "cell_type": "markdown",
   "metadata": {
    "slideshow": {
     "slide_type": "slide"
    }
   },
   "source": [
    "<h1 align=\"center\"> Varactor Folding</h1> \n",
    "\n",
    "***\n",
    "<br><br>\n",
    "\n",
    "**Ferriss, M.**; Sadhu, B.; Rylyakov, A.; Ainspan, H.; Friedman, D.,<br>\n",
    "*“A 12-to-26GHz fractional-N PLL with dual continuous tuning LC-D/VCOs,\"*<br>\n",
    "IEEE International Solid-State Circuits Conference (ISSCC), 2016.\n"
   ]
  },
  {
   "cell_type": "markdown",
   "metadata": {
    "slideshow": {
     "slide_type": "subslide"
    }
   },
   "source": [
    "# Motivation\n",
    "***\n",
    "\n",
    "-  **Objective: Remove coarse bands of CMOS oscillators**\n",
    "-  **Utilize entire tuning range to generate frequency chirps**\n",
    "\n",
    "<img src=\"Inkscape/Folding/Concept.svg\" width=\"60%\">"
   ]
  },
  {
   "cell_type": "markdown",
   "metadata": {
    "slideshow": {
     "slide_type": "subslide"
    }
   },
   "source": [
    "# Digital control of a varactor\n",
    "<img src=\"Inkscape/Folding/FIG_FoldConcept_NoFold.png\" width=\"80%\">\n",
    "\n",
    "***\n",
    "\n",
    "Trade off between SD noise and Gain/Tuning range"
   ]
  },
  {
   "cell_type": "markdown",
   "metadata": {
    "slideshow": {
     "slide_type": "subslide"
    }
   },
   "source": [
    "# Extending the range: varactor folding\n",
    "***\n",
    "\n",
    "<img src=\"Inkscape/Folding/FIG_FoldConcept.png\" width=\"80%\">\n",
    "\n",
    "***\n",
    "\n",
    "Similar concept used in [P. Wang, et al., JSSC 2009]"
   ]
  },
  {
   "cell_type": "markdown",
   "metadata": {
    "slideshow": {
     "slide_type": "subslide"
    }
   },
   "source": [
    "# Comparing typical tuning mechanisms\n",
    "***\n",
    "\n",
    "<img src=\"Inkscape/Folding/VARACTOR_COMPARE.png\" width=\"80%\">\n",
    "\n",
    "***\n",
    "\n",
    "Can we use MOM+switch for continuous tuning?"
   ]
  },
  {
   "cell_type": "markdown",
   "metadata": {
    "slideshow": {
     "slide_type": "subslide"
    }
   },
   "source": [
    "# Varactors vs MOM+switch (Cap)\n",
    "***\n",
    "\n",
    "<img src=\"Inkscape/Folding/VarFold.svg\" width=\"80%\">"
   ]
  },
  {
   "cell_type": "markdown",
   "metadata": {
    "slideshow": {
     "slide_type": "subslide"
    }
   },
   "source": [
    "# Varactors vs MOM+switch (Gain)\n",
    "***\n",
    "\n",
    "<img src=\"Inkscape/Folding/VarFold2.svg\" width=\"80%\">"
   ]
  },
  {
   "cell_type": "markdown",
   "metadata": {
    "slideshow": {
     "slide_type": "subslide"
    }
   },
   "source": [
    "# Varactors vs MOM+switch (Q)\n",
    "***\n",
    "\n",
    "<img src=\"Inkscape/Folding/VarFold3.svg\" width=\"80%\">"
   ]
  },
  {
   "cell_type": "markdown",
   "metadata": {
    "slideshow": {
     "slide_type": "subslide"
    }
   },
   "source": [
    "# Single band\n",
    "***\n",
    "\n",
    "<img src=\"Inkscape/Folding/FIG3_v2A.png\" width=\"80%\">\n",
    "\n",
    "\\*Connections for va0 bias omitted for simplicity"
   ]
  },
  {
   "cell_type": "markdown",
   "metadata": {
    "slideshow": {
     "slide_type": "subslide"
    }
   },
   "source": [
    "# Two bands with offset\n",
    "***\n",
    "\n",
    "<img src=\"Inkscape/Folding/FIG3_v2B.png\" width=\"80%\">\n",
    "\n",
    "\\*Connections for va0 bias, vb0 bias omitted for simplicity"
   ]
  },
  {
   "cell_type": "markdown",
   "metadata": {
    "slideshow": {
     "slide_type": "subslide"
    }
   },
   "source": [
    "# Two bands and two thresholds\n",
    "***\n",
    "\n",
    "<img src=\"Inkscape/Folding/FIG3_v2C.png\" width=\"80%\">\n",
    "\n",
    "\\*Connections for va0 bias, vb0 bias omitted for simplicity"
   ]
  },
  {
   "cell_type": "markdown",
   "metadata": {
    "slideshow": {
     "slide_type": "subslide"
    }
   },
   "source": [
    "# Varactor gain versus frequency\n",
    "***"
   ]
  },
  {
   "cell_type": "code",
   "execution_count": 1,
   "metadata": {
    "slideshow": {
     "slide_type": "-"
    }
   },
   "outputs": [
    {
     "data": {
      "text/html": [
       "<div align=\"middle\"><video width=\"80%\" controls>\n",
       "  <source src=\"Inkscape/Folding/media1b.m4v\" type=\"video/mp4\"></video>\n"
      ],
      "text/plain": [
       "<IPython.core.display.HTML object>"
      ]
     },
     "metadata": {},
     "output_type": "display_data"
    }
   ],
   "source": [
    "%%HTML\n",
    "<div align=\"middle\"><video width=\"80%\" controls>\n",
    "  <source src=\"Inkscape/Folding/media1b.m4v\" type=\"video/mp4\"></video>"
   ]
  },
  {
   "cell_type": "markdown",
   "metadata": {
    "slideshow": {
     "slide_type": "subslide"
    }
   },
   "source": [
    "# The VCO\n",
    "***\n",
    "\n",
    "<img src=\"Inkscape/Folding/FIG2.png\" width=\"600\">"
   ]
  },
  {
   "cell_type": "markdown",
   "metadata": {
    "slideshow": {
     "slide_type": "subslide"
    }
   },
   "source": [
    "# PLL architecture\n",
    "***\n",
    "\n",
    "<img src=\"Inkscape/Folding/BlockDiagram.svg\" width=\"80%\">"
   ]
  },
  {
   "cell_type": "markdown",
   "metadata": {
    "slideshow": {
     "slide_type": "subslide"
    }
   },
   "source": [
    "# 32nm CMOS prototype\n",
    "***\n",
    "\n",
    "<img src=\"Inkscape/Folding/LayoutOverview.svg\" width=\"800\">"
   ]
  },
  {
   "cell_type": "markdown",
   "metadata": {
    "slideshow": {
     "slide_type": "subslide"
    }
   },
   "source": [
    "# Measured tuning range and gain\n",
    "*** \n",
    "\n",
    "<img src=\"Inkscape/Folding/Fig4.svg\" width=\"80%\">"
   ]
  },
  {
   "cell_type": "markdown",
   "metadata": {
    "slideshow": {
     "slide_type": "subslide"
    }
   },
   "source": [
    "# Measured phase noise at 22GHz\n",
    "***\n",
    "\n",
    "<img src=\"Inkscape/Folding/Fig5.svg\" width=\"80%\">\n",
    "\n",
    "`VCO’s FOM = 181dBc/Hz, FOMT = 188dBc/Hz  @10MHz offset`"
   ]
  },
  {
   "cell_type": "markdown",
   "metadata": {
    "slideshow": {
     "slide_type": "subslide"
    }
   },
   "source": [
    "# Measured transient frequency\n",
    "***\n",
    "\n",
    "<img src=\"Inkscape/Folding/Fig6.svg\" width=\"80%\">\n",
    "\n",
    "-  80GHz oscilloscope directly samples PLLs output.\n",
    "-  8GHz chirp measured in segments due to scope memory depth."
   ]
  },
  {
   "cell_type": "code",
   "execution_count": 2,
   "metadata": {
    "slideshow": {
     "slide_type": "subslide"
    }
   },
   "outputs": [
    {
     "data": {
      "text/html": [
       "<div align=\"middle\"><video width=\"60%\" controls>\n",
       "  <source src=\"Inkscape/Folding/media2b.m4v\" type=\"video/mp4\"></video>\n"
      ],
      "text/plain": [
       "<IPython.core.display.HTML object>"
      ]
     },
     "metadata": {},
     "output_type": "display_data"
    }
   ],
   "source": [
    "%%HTML\n",
    "<div align=\"middle\"><video width=\"60%\" controls>\n",
    "  <source src=\"Inkscape/Folding/media2b.m4v\" type=\"video/mp4\"></video>"
   ]
  },
  {
   "cell_type": "markdown",
   "metadata": {
    "slideshow": {
     "slide_type": "subslide"
    }
   },
   "source": [
    "# Chirp generation comparison\n",
    "***\n",
    "\n",
    "<img src=\"Inkscape/Folding/Table.svg\" width=\"80%\">"
   ]
  },
  {
   "cell_type": "markdown",
   "metadata": {
    "slideshow": {
     "slide_type": "subslide"
    }
   },
   "source": [
    "# Q degradation versus # of elements\n",
    "***\n",
    "\n",
    "<img src=\"Inkscape/Folding/Q.svg\" width=\"800\">"
   ]
  },
  {
   "cell_type": "markdown",
   "metadata": {
    "slideshow": {
     "slide_type": "subslide"
    }
   },
   "source": [
    "# Spectrum when generating chirps\n",
    "***\n",
    "\n",
    "<img src=\"Inkscape/Folding/SpreadSpectrum.png\" width=\"80%\">"
   ]
  },
  {
   "cell_type": "markdown",
   "metadata": {
    "slideshow": {
     "slide_type": "slide"
    }
   },
   "source": [
    "<h1 align=\"center\">Flicker noise suppression in VCOs</h1> \n",
    "\n",
    "***\n",
    "<br><br>\n",
    "\n",
    "**Ferriss, M.**; Sadhu, B.; Friedman, D.;<br>\n",
    "*\"A Gradient Descent Bias Optimizer for Oscillator Phase Noise Reduction Demonstrated in 45nm and 32nm SOI CMOS,\"*<br>\n",
    "IEEE Radio Frequency Integrated Circuits Symposium (RFIC), 2018."
   ]
  },
  {
   "cell_type": "markdown",
   "metadata": {
    "slideshow": {
     "slide_type": "subslide"
    }
   },
   "source": [
    "# Oscillator sensitivity to noise\n",
    "***\n",
    "\n",
    "<img src=\"Inkscape/GradientDescent/Concept2.svg\" width=\"80%\">"
   ]
  },
  {
   "cell_type": "markdown",
   "metadata": {
    "slideshow": {
     "slide_type": "subslide"
    }
   },
   "source": [
    "# Waveform concept\n",
    "***\n",
    "<img src=\"Inkscape/GradientDescent/WaveFormConcept.svg\" width=\"60%\">"
   ]
  },
  {
   "cell_type": "markdown",
   "metadata": {
    "slideshow": {
     "slide_type": "subslide"
    }
   },
   "source": [
    "# Overview of architecture\n",
    "***\n",
    "<img src=\"Inkscape/GradientDescent/BlockDiagram.svg\" width=\"80%\">"
   ]
  },
  {
   "cell_type": "markdown",
   "metadata": {
    "slideshow": {
     "slide_type": "subslide"
    }
   },
   "source": [
    "# Transient  behavioral simulation\n",
    "***\n",
    "<img src=\"Inkscape/GradientDescent/BehavSim.svg\" width=\"80%\">"
   ]
  },
  {
   "cell_type": "markdown",
   "metadata": {
    "slideshow": {
     "slide_type": "subslide"
    }
   },
   "source": [
    "# Die photos\n",
    "***\n",
    "\n",
    "<img src=\"Inkscape/GradientDescent/DiePhoto.svg\" width=\"80%\">"
   ]
  },
  {
   "cell_type": "markdown",
   "metadata": {
    "slideshow": {
     "slide_type": "subslide"
    }
   },
   "source": [
    "# Measured frequency sensitivity to bias voltage\n",
    "***\n",
    "\n",
    "<img src=\"Inkscape/GradientDescent/Results1.svg\" width=\"600\">"
   ]
  },
  {
   "cell_type": "markdown",
   "metadata": {
    "slideshow": {
     "slide_type": "subslide"
    }
   },
   "source": [
    "# 45nm, multiple frequencies / bias points\n",
    "***\n",
    "<img src=\"Inkscape/GradientDescent/Results2.svg\" width=\"600\">"
   ]
  },
  {
   "cell_type": "markdown",
   "metadata": {
    "slideshow": {
     "slide_type": "subslide"
    }
   },
   "source": [
    "# 45nm @ 15.5GHz\n",
    "***\n",
    "\n",
    "<img src=\"Inkscape/GradientDescent/Results3.svg\" width=\"600\">"
   ]
  },
  {
   "cell_type": "markdown",
   "metadata": {
    "slideshow": {
     "slide_type": "subslide"
    }
   },
   "source": [
    "# 32nm design with tail inductor\n",
    "***\n",
    "\n",
    "<img src=\"Inkscape/GradientDescent/Results4.svg\" width=\"600\">"
   ]
  },
  {
   "cell_type": "markdown",
   "metadata": {
    "slideshow": {
     "slide_type": "subslide"
    }
   },
   "source": [
    "# Output spectrum\n",
    "***\n",
    "\n",
    "<img src=\"Inkscape/GradientDescent/Results5.svg\" width=\"600\">"
   ]
  },
  {
   "cell_type": "markdown",
   "metadata": {
    "slideshow": {
     "slide_type": "slide"
    }
   },
   "source": [
    "<h1 align=\"center\">Software for phased arrays</h1> \n",
    "\n",
    "***\n",
    "<br><br>\n",
    "\n",
    "Sadhu, B.; Paidimarri, A.; **Ferriss, M.**; Yeck, M.; Gu, X.; Valdes-Garcia, A.,<br>\n",
    "*\"A Software-Defined Phased Array Radio with mmWave to Software Vertical Stack Integration for 5G Experimentation,\"*<br>\n",
    "2018 IEEE/MTT-S International Microwave Symposium - (IMS), 2018.\n",
    "<br><br>\n",
    "Sadhu, B.; Tousi, Y.; Hallin, J.; Sahl, S.; Reynolds, S.; Renström, Ö.; Sjögren, K.; Haapalahti, O.; Mazor, N.; Bokinge, B.; Weibull, G.; Bengtsson H.; Carlinger, A.; Westesson E., Thillberg, J.; Rexberg, L.; Yeck M. , Gu X.; **Ferriss M.**; Liu, D.; Friedman, D.; Valdes-Garcia, A., <br>\n",
    "*\"A 28-GHz 32-Element TRX Phased-Array IC With Concurrent Dual-Polarized Operation and Orthogonal Phase and Gain Control for 5G Communications”*<br>\n",
    "IEEE Journal of Solid-State Circuits, 2017. **Awarded JSSC 2017 Best Paper.**"
   ]
  },
  {
   "cell_type": "markdown",
   "metadata": {
    "slideshow": {
     "slide_type": "subslide"
    }
   },
   "source": [
    "# The 5G module\n",
    "***\n",
    "\n",
    "<img src=\"Inkscape/PhasedArray/Module.svg\" width=\"80%\">\n",
    "Photograph of the SDPAR system."
   ]
  },
  {
   "cell_type": "markdown",
   "metadata": {
    "slideshow": {
     "slide_type": "subslide"
    }
   },
   "source": [
    "# Simulating non-idealities\n",
    "***\n",
    "\n",
    "<img src=\"Inkscape/PhasedArray/StepQuantization.svg\" width=\"80%\">"
   ]
  },
  {
   "cell_type": "markdown",
   "metadata": {
    "slideshow": {
     "slide_type": "subslide"
    }
   },
   "source": [
    "# Beam optimization (Software)\n",
    "***\n",
    "\n",
    "\n",
    "<img src=\"Inkscape/PhasedArray/OptimizedPattern.svg\" width=\"80%\">\n",
    "\n",
    "*** \n",
    "\n",
    "An optimization experiment using the SDPAR software emulator\n",
    "where the optimizer creates a beam pattern to improve signal to interference\n",
    "ratio starting from an arbitrary beam."
   ]
  },
  {
   "cell_type": "markdown",
   "metadata": {
    "slideshow": {
     "slide_type": "subslide"
    }
   },
   "source": [
    "# Beam optimization (Hardware)\n",
    "***\n",
    "\n",
    "<img src=\"Inkscape/PhasedArray/InterferOnOff.svg\" width=\"80%\">"
   ]
  },
  {
   "cell_type": "markdown",
   "metadata": {
    "slideshow": {
     "slide_type": "slide"
    }
   },
   "source": [
    "### The End"
   ]
  }
 ],
 "metadata": {
  "celltoolbar": "Slideshow",
  "kernelspec": {
   "display_name": "Python 3",
   "language": "python",
   "name": "python3"
  },
  "language_info": {
   "codemirror_mode": {
    "name": "ipython",
    "version": 3
   },
   "file_extension": ".py",
   "mimetype": "text/x-python",
   "name": "python",
   "nbconvert_exporter": "python",
   "pygments_lexer": "ipython3",
   "version": "3.7.1"
  }
 },
 "nbformat": 4,
 "nbformat_minor": 2
}
